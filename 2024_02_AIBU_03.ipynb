{
  "cells": [
    {
      "cell_type": "markdown",
      "metadata": {
        "id": "SYzm_6YjRbNk"
      },
      "source": [
        "#**이번 실습 과제3에서는 HuggingFace 라이브러리를 활용하여,생성형 인공지능(Generative AI)의 두 가지 핵심적인 응용 분야인 컴퓨터 비전(Computer Vision)과 자연어 처리(Natural Language Processing)를 실습해보겠습니다.**#"
      ]
    },
    {
      "cell_type": "markdown",
      "metadata": {
        "id": "SJZjqrSfRgyg"
      },
      "source": [
        "## **메뉴 → 런타임 → 런타임 유형 변경 → GPU로 설정해야 에러없이 진행됩니다**##"
      ]
    },
    {
      "cell_type": "markdown",
      "metadata": {
        "id": "9k8JMtMFTZEt"
      },
      "source": [
        "###**Problem 1. Machine Translation & Image Generation**\n",
        "\n",
        "이 실습 과제에서는 자연어 처리 기술을 사용하여 텍스트를 번역하는 기계번역(Machine Translation) 작업을 수행 후 이를 기반으로 실제 이미지 생성(Image Generation)이 어떻게 작동되는지를 실습합니다.\n",
        "\n",
        "창의적인 텍스트 프롬프트(한글)를 제공하여, 이를 기반으로 실제 이미지를 생성해보세요."
      ]
    },
    {
      "cell_type": "markdown",
      "source": [],
      "metadata": {
        "id": "WHJXUYpwrWG0"
      }
    },
    {
      "cell_type": "code",
      "execution_count": null,
      "metadata": {
        "id": "z9l9VJu3MvGn"
      },
      "outputs": [],
      "source": [
        "!pip install --upgrade -qq diffusers transformers[sentencepiece] sacremoses accelerate scipy safetensors gensim"
      ]
    },
    {
      "cell_type": "code",
      "execution_count": 2,
      "metadata": {
        "id": "lEWSjPa2Mu-i"
      },
      "outputs": [],
      "source": [
        "from transformers import AutoTokenizer, AutoModelForSeq2SeqLM\n",
        "import torch"
      ]
    },
    {
      "cell_type": "code",
      "execution_count": null,
      "metadata": {
        "id": "1vQvlqBbMyyM"
      },
      "outputs": [],
      "source": [
        "tokenizer = AutoTokenizer.from_pretrained(\"Helsinki-NLP/opus-mt-ko-en\", clean_up_tokenization_spaces=True)\n",
        "model = AutoModelForSeq2SeqLM.from_pretrained(\"Helsinki-NLP/opus-mt-ko-en\")"
      ]
    },
    {
      "cell_type": "code",
      "execution_count": 9,
      "metadata": {
        "id": "BHrT_0VKMuT9"
      },
      "outputs": [],
      "source": [
        "prompt = \"\" # Q1. 번역하고자 하는 문장을 한글로 작성하세요.\n",
        "tokenized_text = tokenizer(prompt, return_tensors='pt')\n",
        "\n",
        "translation_tokens = model.generate(**tokenized_text)\n",
        "translated_text = tokenizer.decode(translation_tokens[0], skip_special_tokens=True)"
      ]
    },
    {
      "cell_type": "code",
      "execution_count": null,
      "metadata": {
        "id": "X03-J_UHPLAI"
      },
      "outputs": [],
      "source": [
        "import warnings\n",
        "from diffusers import StableDiffusionPipeline, DPMSolverMultistepScheduler\n",
        "\n",
        "warnings.filterwarnings(\"ignore\", category=FutureWarning)\n",
        "pipe = StableDiffusionPipeline.from_pretrained(\"stabilityai/stable-diffusion-2-1\", torch_dtype=torch.float16)\n",
        "pipe.scheduler = DPMSolverMultistepScheduler.from_config(pipe.scheduler.config)\n",
        "pipe = pipe.to(\"cuda\")"
      ]
    },
    {
      "cell_type": "code",
      "execution_count": null,
      "metadata": {
        "id": "UTse5h77PNaQ"
      },
      "outputs": [],
      "source": [
        "image = pipe(translated_text).images[0]\n",
        "\n",
        "image.save(f\"2024_AI_BU.png\")\n",
        "\n",
        "print(f\"Orginal Prompt: {prompt}\\nTranslated Prompt: {translated_text}\\n\")\n",
        "image"
      ]
    },
    {
      "cell_type": "markdown",
      "metadata": {
        "id": "xsEzfbEZNGD_"
      },
      "source": [
        "###**Problem 2. Sentiment Analysis**\n",
        "이 실습 과제에서는 자연어 처리 기술을 사용하여 문장의 감성 분석(Sentiment Analysis) 작업을 수행합니다.\n",
        "\n",
        "영어로 된 문장 3개를 제공하여, 각 해당 문장의 감성 분석을 실습합니다."
      ]
    },
    {
      "cell_type": "code",
      "execution_count": null,
      "metadata": {
        "id": "MwDQyJ0dGFZv"
      },
      "outputs": [],
      "source": [
        "import warnings\n",
        "from transformers import pipeline\n",
        "\n",
        "model_name = \"cardiffnlp/twitter-roberta-base-sentiment\"\n",
        "\n",
        "warnings.filterwarnings(\"ignore\", category=FutureWarning)\n",
        "sentiment_analysis = pipeline(\"sentiment-analysis\", model=model_name, device=0)"
      ]
    },
    {
      "cell_type": "code",
      "execution_count": 16,
      "metadata": {
        "id": "tjcJnnhgSqRW"
      },
      "outputs": [],
      "source": [
        "def convert_to_sentiment_label(label):\n",
        "    if label == \"LABEL_2\":\n",
        "        label = \"긍정\"\n",
        "    elif label == \"LABEL_1\":\n",
        "        label = \"중립\"\n",
        "    elif label == \"LABEL_0\":\n",
        "        label = \"부정\"\n",
        "    return label\n",
        "\n",
        "sentences = [\n",
        "    \"\",\n",
        "    \"\",\n",
        "    \"\"\n",
        "] # Q2. 분석하고자 하는 문장 3개를 각각 영어로 작성하세요.\n"
      ]
    },
    {
      "cell_type": "code",
      "execution_count": null,
      "metadata": {
        "id": "FnCAYoYtLg5Q"
      },
      "outputs": [],
      "source": [
        "results = sentiment_analysis(sentences)\n",
        "\n",
        "for sentence, result in zip(sentences, results):\n",
        "  label = result['label']\n",
        "  score = result['score']\n",
        "  converted_label = convert_to_sentiment_label(label)\n",
        "  print(f\"Text: {sentence}\\nSentiment: {converted_label}\\nProbability: {round(score * 100, 2)}%\\n\")"
      ]
    }
  ],
  "metadata": {
    "accelerator": "GPU",
    "colab": {
      "gpuType": "T4",
      "provenance": []
    },
    "kernelspec": {
      "display_name": "Python 3",
      "name": "python3"
    },
    "language_info": {
      "name": "python"
    }
  },
  "nbformat": 4,
  "nbformat_minor": 0
}